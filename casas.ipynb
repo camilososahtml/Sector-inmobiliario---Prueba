{
 "cells": [
  {
   "cell_type": "code",
   "execution_count": null,
   "id": "fb3c789e",
   "metadata": {
    "vscode": {
     "languageId": "plaintext"
    }
   },
   "outputs": [],
   "source": [
    "import pandas as pd\n",
    "import numpy as np"
   ]
  },
  {
   "cell_type": "code",
   "execution_count": null,
   "id": "805f7499",
   "metadata": {
    "vscode": {
     "languageId": "plaintext"
    }
   },
   "outputs": [],
   "source": [
    "melb_df = pd.read_csv('la_blanqueada_houses.csv')\n",
    "melb_df"
   ]
  },
  {
   "cell_type": "code",
   "execution_count": null,
   "id": "3d3e14d5",
   "metadata": {
    "vscode": {
     "languageId": "plaintext"
    }
   },
   "outputs": [],
   "source": [
    "melb_df = melb_df.dropna(axis = 0)\n",
    "melb_df"
   ]
  },
  {
   "cell_type": "code",
   "execution_count": null,
   "id": "d5aad49f",
   "metadata": {
    "vscode": {
     "languageId": "plaintext"
    }
   },
   "outputs": [],
   "source": [
    "y = melb_df['Price']\n",
    "x = melb_df[['Rooms', 'Bathroom', 'Landsize', 'CouncilArea', 'Regionname']]"
   ]
  },
  {
   "cell_type": "code",
   "execution_count": null,
   "id": "d11cdb63",
   "metadata": {
    "vscode": {
     "languageId": "plaintext"
    }
   },
   "outputs": [],
   "source": [
    "from sklearn.tree import DecisionTreeRegressor\n",
    "\n",
    "la_blanqueada_houses = DecisionTreeRegressor()\n",
    "\n",
    "la_blanqueada_houses.fit(x_encoded, y)"
   ]
  },
  {
   "cell_type": "code",
   "execution_count": null,
   "id": "ea165db5",
   "metadata": {
    "vscode": {
     "languageId": "plaintext"
    }
   },
   "outputs": [],
   "source": [
    "categorical_cols = ['CouncilArea', 'Regionname']\n",
    "x_encoded = pd.get_dummies(x, columns=categorical_cols)\n",
    "display(x_encoded.head())"
   ]
  },
  {
   "cell_type": "code",
   "execution_count": null,
   "id": "dc8ad00a",
   "metadata": {
    "vscode": {
     "languageId": "plaintext"
    }
   },
   "outputs": [],
   "source": [
    "print(\"Predicciones para las primeras casas\")\n",
    "print(x_encoded.head())\n",
    "print(\"El precio previsto para estas casas es:\")\n",
    "print(y.head())\n",
    "print(\"Las predicciones son\")\n",
    "print(la_blanqueada_houses.predict(x_encoded.head()))"
   ]
  },
  {
   "cell_type": "markdown",
   "id": "c063239b",
   "metadata": {},
   "source": [
    "Esta parte es step by step, si la estás usando te recomiendo ir paso a paso ejecutándolo para leer progresivamente los datos (recomendación, reitero)\n",
    "\n",
    "PD: Si la estás usando en VSCODE por experiencia te recomiendo cambiar a Google Colab y ejecutarlo ahí a no ser de que quieras dolores de cabeza."
   ]
  },
  {
   "cell_type": "code",
   "execution_count": null,
   "id": "6ac7638d",
   "metadata": {
    "vscode": {
     "languageId": "plaintext"
    }
   },
   "outputs": [],
   "source": [
    "from sklearn.metrics import mean_absolute_error\n",
    "\n",
    "predicted_home_prices = la_blanqueada_houses.predict(x_encoded)\n",
    "mean_absolute_error(y, predicted_home_prices)"
   ]
  },
  {
   "cell_type": "markdown",
   "id": "09b1611f",
   "metadata": {},
   "source": [
    "Hasta acá llego por ahora que estoy llegando tarde a dibujo."
   ]
  }
 ],
 "metadata": {
  "language_info": {
   "name": "python"
  }
 },
 "nbformat": 4,
 "nbformat_minor": 5
}
